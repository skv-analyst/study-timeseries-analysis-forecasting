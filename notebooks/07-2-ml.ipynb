{
 "cells": [
  {
   "cell_type": "code",
   "execution_count": 1,
   "id": "4c0e47ae",
   "metadata": {},
   "outputs": [],
   "source": [
    "import pandas as pd"
   ]
  },
  {
   "cell_type": "markdown",
   "id": "5289f1de",
   "metadata": {},
   "source": [
    "## 1\n",
    "- Загрузите датасет красного вина.\n",
    "- Разделите данные на признаки (все столбцы, кроме quality) и целевую переменную (quality).\n",
    "- Разбейте данные на обучающую и тестовую выборки в пропорции 80/20.\n",
    "- Обучите модели Random Forest, XGBoost и LightGBM для задачи регрессии (используйте примерно 100 деревьев и стандартные параметры).\n",
    "- Посчитайте RMSE на тестовой выборке для каждой модели.\n",
    "- Постройте столбчатую диаграмму, сравнивающую RMSE всех трёх моделей.\n",
    "- Важность признаков (на модели Random Forest). \n",
    "    - Для обученного Random Forest получите важности признаков.\n",
    "    - Отсортируйте признаки по убыванию важности.\n",
    "    - Постройте график важности признаков (столбчатая диаграмма).\n",
    "    - Кратко опишите, какие характеристики вина сильнее всего влияют на качество.\n",
    "- Настройка XGBoost \n",
    "    - Обучите XGBoost модели с разным количеством деревьев: 50, 100 и 200.\n",
    "    - Для каждой модели вычислите RMSE на тестовой выборке.\n",
    "    - Определите, с каким числом деревьев модель работает лучше всего.\n",
    "Классификация качества вина\n",
    "    - Преобразуйте задачу в классификацию: если качество вина >= 7 — класс 1 (хорошее), иначе класс 0 (плохое).\n",
    "    - Обучите Random Forest, XGBoost и LightGBM для классификации.\n",
    "    - Посчитайте accuracy для каждой модели на тестовой выборке.\n",
    "    - Постройте график сравнения accuracy."
   ]
  },
  {
   "cell_type": "code",
   "execution_count": 4,
   "id": "54756dd8",
   "metadata": {},
   "outputs": [],
   "source": [
    "df = pd.read_csv('../data/07-1-data.csv', sep=';')"
   ]
  },
  {
   "cell_type": "code",
   "execution_count": null,
   "id": "9a051d84",
   "metadata": {},
   "outputs": [],
   "source": []
  },
  {
   "cell_type": "code",
   "execution_count": null,
   "id": "27ca58ea",
   "metadata": {},
   "outputs": [],
   "source": []
  }
 ],
 "metadata": {
  "kernelspec": {
   "display_name": ".venv",
   "language": "python",
   "name": "python3"
  },
  "language_info": {
   "codemirror_mode": {
    "name": "ipython",
    "version": 3
   },
   "file_extension": ".py",
   "mimetype": "text/x-python",
   "name": "python",
   "nbconvert_exporter": "python",
   "pygments_lexer": "ipython3",
   "version": "3.9.6"
  }
 },
 "nbformat": 4,
 "nbformat_minor": 5
}
