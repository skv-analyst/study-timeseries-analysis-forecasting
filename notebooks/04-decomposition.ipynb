{
 "cells": [
  {
   "cell_type": "code",
   "execution_count": 1,
   "id": "b5fd170a",
   "metadata": {},
   "outputs": [],
   "source": [
    "import pandas as pd"
   ]
  },
  {
   "cell_type": "markdown",
   "id": "2aebc09c",
   "metadata": {},
   "source": [
    "## 1 \n",
    "- Загрузите данные о подтвержденных случаях COVID-19 по странам из COVID-19 Data (Johns Hopkins University). \n",
    "- Выполните декомпозицию временного ряда для одной из стран с помощью STL, выделив компоненты тренда и сезонности. \n",
    "- Оцените влияние тренда на эпидемию."
   ]
  },
  {
   "cell_type": "code",
   "execution_count": 2,
   "id": "6fc52c0e",
   "metadata": {},
   "outputs": [],
   "source": [
    "df = pd.read_csv('../data/04-1-covid19.csv')"
   ]
  },
  {
   "cell_type": "code",
   "execution_count": null,
   "id": "4d0e544e",
   "metadata": {},
   "outputs": [],
   "source": []
  },
  {
   "cell_type": "markdown",
   "id": "7cb19aff",
   "metadata": {},
   "source": [
    "## 2\n",
    "- Используйте данные о продажах из Global Superstore Sales (Kaggle). \n",
    "- Проанализируйте сезонность продаж по месяцам с помощью метода STL и постройте график сезонных колебаний в разных категориях товаров."
   ]
  },
  {
   "cell_type": "code",
   "execution_count": 5,
   "id": "8f7022d9",
   "metadata": {},
   "outputs": [],
   "source": [
    "df = pd.read_csv('../data/04-2-global-superstore2.csv', encoding='cp1251')"
   ]
  },
  {
   "cell_type": "code",
   "execution_count": null,
   "id": "6936ea53",
   "metadata": {},
   "outputs": [],
   "source": []
  },
  {
   "cell_type": "code",
   "execution_count": null,
   "id": "4e666d5d",
   "metadata": {},
   "outputs": [],
   "source": []
  }
 ],
 "metadata": {
  "kernelspec": {
   "display_name": ".venv",
   "language": "python",
   "name": "python3"
  },
  "language_info": {
   "codemirror_mode": {
    "name": "ipython",
    "version": 3
   },
   "file_extension": ".py",
   "mimetype": "text/x-python",
   "name": "python",
   "nbconvert_exporter": "python",
   "pygments_lexer": "ipython3",
   "version": "3.9.6"
  }
 },
 "nbformat": 4,
 "nbformat_minor": 5
}
