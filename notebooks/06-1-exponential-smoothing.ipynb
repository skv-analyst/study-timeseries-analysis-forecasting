{
 "cells": [
  {
   "cell_type": "code",
   "execution_count": 1,
   "id": "65cb0710",
   "metadata": {},
   "outputs": [],
   "source": [
    "import pandas as pd"
   ]
  },
  {
   "cell_type": "markdown",
   "id": "920bc987",
   "metadata": {},
   "source": [
    "## 1 \n",
    "- Примените простое экспоненциальное сглаживание (SES) к курсу доллара (USD) для страны Australia с коэффициентом α = 0.2. \n",
    "- Выведите первое значение сглаженного ряда, округленное до двух знаков после запятой."
   ]
  },
  {
   "cell_type": "code",
   "execution_count": 2,
   "id": "52f12f96",
   "metadata": {},
   "outputs": [],
   "source": [
    "df = pd.read_csv('../data/06-1-daily.csv')"
   ]
  },
  {
   "cell_type": "code",
   "execution_count": null,
   "id": "4562bee5",
   "metadata": {},
   "outputs": [],
   "source": []
  },
  {
   "cell_type": "code",
   "execution_count": null,
   "id": "b5c4d96d",
   "metadata": {},
   "outputs": [],
   "source": []
  },
  {
   "cell_type": "markdown",
   "id": "0c134cbd",
   "metadata": {},
   "source": [
    "## 2\n",
    "- Примените метод Хольта с аддитивным трендом к данным по авиаперевозкам.\n",
    "- Выведите первое значение сглаженного ряда, округленное до двух знаков после запятой."
   ]
  },
  {
   "cell_type": "code",
   "execution_count": 4,
   "id": "89d512fe",
   "metadata": {},
   "outputs": [],
   "source": [
    "df = pd.read_csv('../data/06-2-airtravel.csv')"
   ]
  },
  {
   "cell_type": "code",
   "execution_count": null,
   "id": "01c09191",
   "metadata": {},
   "outputs": [],
   "source": []
  }
 ],
 "metadata": {
  "kernelspec": {
   "display_name": ".venv",
   "language": "python",
   "name": "python3"
  },
  "language_info": {
   "codemirror_mode": {
    "name": "ipython",
    "version": 3
   },
   "file_extension": ".py",
   "mimetype": "text/x-python",
   "name": "python",
   "nbconvert_exporter": "python",
   "pygments_lexer": "ipython3",
   "version": "3.9.6"
  }
 },
 "nbformat": 4,
 "nbformat_minor": 5
}
