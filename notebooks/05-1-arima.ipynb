{
 "cells": [
  {
   "cell_type": "code",
   "execution_count": 2,
   "id": "e710a559",
   "metadata": {},
   "outputs": [],
   "source": [
    "import pandas as pd"
   ]
  },
  {
   "cell_type": "markdown",
   "id": "0390dd6d",
   "metadata": {},
   "source": [
    "## 1 \n",
    "- Загрузите и визуализируйте временной ряд\n",
    "- Постройте график временного ряда.\n",
    "- Сделайте краткий вывод: видны ли тренды, сезонность, выбросы?\n",
    "- Проверьте стационарность ряда. Напишите функцию, реализующую тест Дики-Фуллера. Проведите тест на стационарность.\n",
    "- Постройте графики автокорреляции (ACF) и частичной автокорреляции (PACF).Проанализируйте их и определите:\n",
    "    - После какого лага обрывается ACF? → это будет `q`\n",
    "    - После какого лага обрывается PACF? → это будет `p`\n",
    "- Разделите данные на обучающую и тестовую выборки в пропорции 80/20\n",
    "- Обучите модель ARIMA с параметрами (`p`, `d`, `q`), полученными ранее. Выведите сводку модели.\n",
    "- Получите прогноз и постройте график\n",
    "- Рассчитайте метрики и выведите результат\n",
    "- Сравните с другой моделью. \n",
    "    - Обучите вторую модель ARIMA с другими параметрами (например, (3,0,3)).\n",
    "    - Повторите шаги: прогноз → визуализация → метрики.\n",
    "    - Сравните: какая модель точнее?\n",
    "- Прогноз на будущее\n",
    "    - Постройте прогноз на 20 шагов вперёд после конца ряда.\n",
    "    - Постройте график с последними значениями и будущим прогнозом."
   ]
  },
  {
   "cell_type": "code",
   "execution_count": 3,
   "id": "6546dd50",
   "metadata": {},
   "outputs": [],
   "source": [
    "df = pd.read_csv('../data/05-1-arima-data.csv')"
   ]
  },
  {
   "cell_type": "code",
   "execution_count": null,
   "id": "5be9f7ee",
   "metadata": {},
   "outputs": [],
   "source": []
  },
  {
   "cell_type": "code",
   "execution_count": null,
   "id": "457a7166",
   "metadata": {},
   "outputs": [],
   "source": []
  }
 ],
 "metadata": {
  "kernelspec": {
   "display_name": ".venv",
   "language": "python",
   "name": "python3"
  },
  "language_info": {
   "codemirror_mode": {
    "name": "ipython",
    "version": 3
   },
   "file_extension": ".py",
   "mimetype": "text/x-python",
   "name": "python",
   "nbconvert_exporter": "python",
   "pygments_lexer": "ipython3",
   "version": "3.9.6"
  }
 },
 "nbformat": 4,
 "nbformat_minor": 5
}
