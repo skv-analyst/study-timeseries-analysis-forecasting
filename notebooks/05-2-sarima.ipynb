{
 "cells": [
  {
   "cell_type": "code",
   "execution_count": 1,
   "id": "54eb1730",
   "metadata": {},
   "outputs": [],
   "source": [
    "import pandas as pd"
   ]
  },
  {
   "cell_type": "markdown",
   "id": "64ec41ed",
   "metadata": {},
   "source": [
    "## 1\n",
    "- Загрузите данные из файла, установите колонку Date как индекс, отобразите график временного ряда Value.\n",
    "- Проверьте стационарность ряда с помощью ADF-теста. Выведите ADF Statistic и p-value.\n",
    "- Сделайте дифференцирование: обычное (lag=1) и сезонное (lag=12). Постройте график после сезонного дифференцирования.\n",
    "- Постройте графики ACF и PACF для преобразованного ряда.\n",
    "- Разделите данные на обучающую (80%) и тестовую (20%) части.\n",
    "- Обучите SARIMA-модель с параметрами на обучающей выборке.\n",
    "- Сделайте прогноз на длину тестовой выборки и постройте график train, test и forecast.\n",
    "- Вычислите MAE, MSE, RMSE и MAPE между прогнозом и тестом."
   ]
  },
  {
   "cell_type": "code",
   "execution_count": 2,
   "id": "d9f38c8c",
   "metadata": {},
   "outputs": [],
   "source": [
    "df = pd.read_csv('../data/05-2-sarima-data.csv')"
   ]
  },
  {
   "cell_type": "code",
   "execution_count": null,
   "id": "f3b16728",
   "metadata": {},
   "outputs": [],
   "source": []
  },
  {
   "cell_type": "code",
   "execution_count": null,
   "id": "c093ee9f",
   "metadata": {},
   "outputs": [],
   "source": []
  }
 ],
 "metadata": {
  "kernelspec": {
   "display_name": ".venv",
   "language": "python",
   "name": "python3"
  },
  "language_info": {
   "codemirror_mode": {
    "name": "ipython",
    "version": 3
   },
   "file_extension": ".py",
   "mimetype": "text/x-python",
   "name": "python",
   "nbconvert_exporter": "python",
   "pygments_lexer": "ipython3",
   "version": "3.9.6"
  }
 },
 "nbformat": 4,
 "nbformat_minor": 5
}
